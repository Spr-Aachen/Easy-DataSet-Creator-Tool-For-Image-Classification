{
 "cells": [
  {
   "attachments": {},
   "cell_type": "markdown",
   "id": "65f90911-c910-4cb9-ab55-ad41e3ffd568",
   "metadata": {},
   "source": [
    "# 划分数据集"
   ]
  },
  {
   "cell_type": "markdown",
   "id": "aa621a92-e18e-46a0-aefb-5e57d4374f7b",
   "metadata": {},
   "source": [
    "## 1. 导入工具包"
   ]
  },
  {
   "cell_type": "code",
   "execution_count": 17,
   "id": "acfeb9c9-2a3e-45cf-bd07-3472d09519d6",
   "metadata": {},
   "outputs": [],
   "source": [
    "# 导入操作系统库以获取平台信息以及对目录操作的权限\n",
    "import os\n",
    "\n",
    "# 导入正则表达式库以支持字符串的分割操作\n",
    "import re\n",
    "\n",
    "# 导入进度条库的模块以令进程可视化\n",
    "from tqdm import tqdm\n",
    "\n",
    "# 导入文件操作库以支持os模块所没有的高级文件操作\n",
    "import shutil\n",
    "\n",
    "# 导入随机函数库以支持数据集的随机划分操作\n",
    "import random\n",
    "\n",
    "# 导入数据分析库以支持结构化数据分析\n",
    "import pandas"
   ]
  },
  {
   "attachments": {},
   "cell_type": "markdown",
   "id": "a6b4d257-5bdc-4830-bb34-6936e04916ad",
   "metadata": {},
   "source": [
    "## 2. 创建训练集文件夹和验证集文件夹"
   ]
  },
  {
   "cell_type": "code",
   "execution_count": 23,
   "id": "522222b5-9128-420d-a134-fb0b4cdc38ca",
   "metadata": {},
   "outputs": [],
   "source": [
    "'''\n",
    "re的split函数用于根据正则表达式匹配将字符串进行分割并以列表形式返回，构造方法如下：\n",
    "re.split(pattern, string, maxsplit = 0, flags = 0)\n",
    "pattern : 相当于str.split()中的sep，分隔符的意思，可以是字符串，也可以为正则表达式（例：'[ab]'表示取a和b的任意一个值）\n",
    "string : 要进行分割的字符串\n",
    "maxsplit : 分割的最大次数，默认为0即不限次数（注意和str.split()中的有点不一样）\n",
    "flags : 修改pattern表达式的功能（比如忽略大小写就用re.IGNORECASE）\n",
    "'''\n",
    "\n",
    "# 指定工作目录\n",
    "WorkDir = 'DataSet' # 指定数据集文件夹为工作目录\n",
    "\n",
    "# 先创建训练集文件夹与验证集文件夹\n",
    "if not os.path.exists(WorkDir + '/Training') and not os.path.exists(WorkDir + '/Validation'): # 防止因重复创建而报错\n",
    "    os.mkdir(os.path.join(WorkDir, 'Training'), mode = 0o777) # Path: %WorkDir%/Training\n",
    "    os.mkdir(os.path.join(WorkDir, 'Validation'), mode = 0o777) # Path: %Workdir%/Validation\n",
    "else:\n",
    "    try:\n",
    "        os.mkdir(os.path.join(WorkDir, 'Training'), mode = 0o777) # Path: %WorkDir%/Training\n",
    "    except:\n",
    "        os.mkdir(os.path.join(WorkDir, 'Validation'), mode = 0o777) # Path: %Workdir%/Validation\n",
    "\n",
    "# 再创建训练集文件夹与验证集文件夹的子文件夹\n",
    "for Subfolder in tqdm(os.listdir(WorkDir)): # 遍历工作目录下的子文件夹并让进度可视化\n",
    "    if os.path.basename(Subfolder) != 'Training' and os.path.basename(Subfolder) != 'Validation': # 筛选出类文件夹\n",
    "        os.mkdir(os.path.join(WorkDir, 'Training', Subfolder), mode = 0o777) # Path: %WorkDir%/Training/%Subfolder%\n",
    "        os.mkdir(os.path.join(WorkDir, 'Validation', Subfolder), mode = 0o777) # Path: %WorkDir%/Validation/%Subfolder%\n",
    "\n",
    "# 对工作目录名进行分割得到数据集的名字\n",
    "DataSet_Name = re.split(pattern = '[-_]', string = WorkDir, maxsplit = 0, flags = 0)[0] # 取分割后的第一个字段"
   ]
  },
  {
   "attachments": {},
   "cell_type": "markdown",
   "id": "b890d0aa-4563-4f92-ac35-771acb588604",
   "metadata": {},
   "source": [
    "## 3. 划分出训练集与验证集并移动文件"
   ]
  },
  {
   "cell_type": "code",
   "execution_count": 24,
   "id": "eb2ad0c2-e3c6-481c-8589-51cdd2aeb516",
   "metadata": {},
   "outputs": [],
   "source": [
    "'''\n",
    "一般训练集和测试集的比例为7:3。而为了加强信息保密并更准确地反应模型效能，比较推荐的是将训练集、验证集、测试集的比例划分为6:2:2\n",
    "'''\n",
    "\n",
    "ValidationSet_Fraction = 0.3  # 验证集比例"
   ]
  },
  {
   "cell_type": "code",
   "execution_count": null,
   "id": "3ef9944c-a36d-4d62-a38b-78faa33fb9f1",
   "metadata": {},
   "outputs": [],
   "source": [
    "# 输出统计条目\n",
    "print('{:^21} {:^21} {:^21}'.format('数据类别', '训练集数据量', '验证集数据量')) # 中间对齐（宽度为21）\n",
    "\n",
    "# 创建数据表对象\n",
    "DF = pandas.DataFrame()\n",
    "\n",
    "# 移动工作目录下的类文件夹至训练集文件夹与验证集文件夹\n",
    "for Subfolder in tqdm(os.listdir(WorkDir)): # 遍历工作目录下的子文件夹并让进度可视化\n",
    "    if os.path.basename(Subfolder) != 'Training' and os.path.basename(Subfolder) != 'Validation': # 筛选出类文件夹\n",
    "\n",
    "        # 获取该类别的文件名并打乱\n",
    "        Folder_OldPath = os.path.join(WorkDir, Subfolder)\n",
    "        FileList = os.listdir(Folder_OldPath) #文件名列表\n",
    "        random.seed(210) # 设置随机种子使函数结果可被复现\n",
    "        random.shuffle(FileList) # 根据随机种子打乱文件名列表的顺序\n",
    "\n",
    "        # 划分数据集\n",
    "        ValidationSet_Content = FileList[:int(len(FileList) * ValidationSet_Fraction)] # 拟移动至验证集文件夹的文件名列表\n",
    "        TrainingSet_Content   = FileList[int(len(FileList) * ValidationSet_Fraction):] # 拟移动至训练集文件夹的文件名列表\n",
    "\n",
    "        # 移动文件至验证集文件夹\n",
    "        for File in ValidationSet_Content:\n",
    "            File_OldPath = os.path.join(WorkDir, Subfolder, File) # 旧文件路径\n",
    "            File_NewPath = os.path.join(WorkDir, 'Validation', Subfolder, File) # 新文件路径\n",
    "            shutil.move(File_OldPath, File_NewPath) # 移动文件\n",
    "\n",
    "        # 移动文件至训练集文件夹\n",
    "        for File in TrainingSet_Content:\n",
    "            File_OldPath = os.path.join(WorkDir, Subfolder, File) # 旧文件路径\n",
    "            File_NewPath = os.path.join(WorkDir, 'Training', Subfolder, File) # 新文件路径\n",
    "            shutil.move(File_OldPath, File_NewPath) # 移动文件\n",
    "        \n",
    "        # 检查并整理文件信息\n",
    "        if len(os.listdir(Folder_OldPath)) == 0: # 当旧文件夹中已无文件\n",
    "            # 删除旧文件夹\n",
    "            shutil.rmtree(Folder_OldPath)\n",
    "            # 输出统计信息\n",
    "            print('{:^21} {:^21} {:^21}'.format(Subfolder, len(TrainingSet_Content), len(ValidationSet_Content)))\n",
    "            # 保存所得信息到表格中\n",
    "            DF = DF.append({'数据类别': Subfolder, '训练集数据量': len(TrainingSet_Content), '验证集数据量': len(ValidationSet_Content)}, ignore_index = True)\n",
    "        else: # 若旧文件夹中仍有文件\n",
    "            raise AssertionError # 自动引发异常以终止执行\n",
    "\n",
    "# 移动工作目录下的所有文件至新的数据集文件夹\n",
    "shutil.move(WorkDir, DataSet_Name + '_Split') # 新文件夹的命名方式为在末尾加上\"_Split\"\n",
    "\n",
    "# 统计数据集的文件数量，导出表格为 csv 文件\n",
    "DF['数据集数据量'] = DF['训练集数据量'] + DF['验证集数据量']\n",
    "DF.to_csv('数据量统计.csv', index = False)\n",
    "\n",
    "# 输出数据表\n",
    "DF"
   ]
  }
 ],
 "metadata": {
  "kernelspec": {
   "display_name": "Python 3.7.0 ('base')",
   "language": "python",
   "name": "python3"
  },
  "language_info": {
   "codemirror_mode": {
    "name": "ipython",
    "version": 3
   },
   "file_extension": ".py",
   "mimetype": "text/x-python",
   "name": "python",
   "nbconvert_exporter": "python",
   "pygments_lexer": "ipython3",
   "version": "3.7.0 (default, Jun 28 2018, 08:04:48) [MSC v.1912 64 bit (AMD64)]"
  },
  "vscode": {
   "interpreter": {
    "hash": "3af1b6f78fba78245cf63ab96d33e9b07e8f9db7221177dfc11d053b30bdd569"
   }
  }
 },
 "nbformat": 4,
 "nbformat_minor": 5
}
