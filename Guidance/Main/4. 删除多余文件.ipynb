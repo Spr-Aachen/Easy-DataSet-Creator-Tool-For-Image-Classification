{
 "cells": [
  {
   "cell_type": "markdown",
   "id": "a59772a4-7398-4b67-9599-65b9f8a17e11",
   "metadata": {},
   "source": [
    "# 删除多余文件"
   ]
  },
  {
   "cell_type": "markdown",
   "id": "185dec06-1393-4d41-b1a2-25080381e7bf",
   "metadata": {},
   "source": [
    "## 1. 导入工具包"
   ]
  },
  {
   "cell_type": "code",
   "execution_count": null,
   "id": "60e25bcc-d14e-4393-89d3-0c01d228e02d",
   "metadata": {},
   "outputs": [],
   "source": [
    "# 导入操作系统库以获取平台信息以及对目录操作的权限\n",
    "import os\n",
    "\n",
    "# 导入OpenCV2库以支持图像处理操作\n",
    "import cv2\n",
    "\n",
    "# 导入计算扩展库以支持数组运算\n",
    "import numpy\n",
    "\n",
    "# 导入进度条库的模块以令进程可视化\n",
    "from tqdm import tqdm\n",
    "\n",
    "# 导入图像处理库的图像模块以支持图像处理操作\n",
    "from PIL import Image"
   ]
  },
  {
   "cell_type": "markdown",
   "id": "58043e9d-25f4-419c-8d0e-27d2e0aa723f",
   "metadata": {},
   "source": [
    "## 2. 删除系统自动生成的多余文件"
   ]
  },
  {
   "cell_type": "markdown",
   "id": "59f1d609-3983-45e5-beeb-b96f1c438295",
   "metadata": {},
   "source": [
    "- ### Linux系统"
   ]
  },
  {
   "cell_type": "code",
   "execution_count": null,
   "id": "a8356247-4b89-42e9-aa87-4c630f05e1f8",
   "metadata": {},
   "outputs": [],
   "source": [
    "'''\n",
    "查找格式：find /（查找范围） -name '查找关键字' -type d\n",
    "find后的 . 代表当前目录\n",
    "使用 -inname 能够忽略字符大小\n",
    "'''\n",
    "\n",
    "# Find命令递归查找当前目录是否有用于Mac系统用户预览的缓存文件夹（文件类似于Windows系统的Thumbs.db）\n",
    "!find . -iname '__MACOSX'\n",
    "#删除\n",
    "!for i in `find . -iname '__MACOSX'`; do rm -rf $i; done\n",
    "# 检查是否已删除\n",
    "!find . -iname '__MACOSX'\n",
    "\n",
    "\n",
    "# Find命令递归查找当前目录是否有用于Mac系统桌面服务存储的文件\n",
    "!find . -iname '.DS_Store'\n",
    "#删除\n",
    "!for i in `find . -iname '.DS_Store'`; do rm -rf $i; done\n",
    "# 检查是否已删除\n",
    "!find . -iname '.DS_Store'\n",
    "\n",
    "\n",
    "# Find命令递归查找当前目录是否有用于jupyter进行定点恢复的文件\n",
    "!find . -iname '.ipynb_checkpoints'\n",
    "#删除\n",
    "!for i in `find . -iname '.ipynb_checkpoints'`; do rm -rf $i; done\n",
    "# 检查是否已删除\n",
    "!find . -iname '.ipynb_checkpoints'"
   ]
  },
  {
   "cell_type": "markdown",
   "id": "c4400a34",
   "metadata": {},
   "source": [
    "- ### Windows系统"
   ]
  },
  {
   "cell_type": "code",
   "execution_count": null,
   "id": "0b0e50b0",
   "metadata": {},
   "outputs": [],
   "source": [
    "'''\n",
    "查找格式：Get-ChildItem -Path '查找范围' \"查找关键字\"\n",
    "-Path后的 . 代表当前目录\n",
    "使用-Recurse参数以获取指定位置中的项目以及该位置的所有子项目。\n",
    "使用-Filter参数以指定用于限定-Path参数的过滤器。\n",
    "管道符 | 会把前一个命令的对象传递给第二个命令所对应支持ByValue的参数，然后执行\n",
    "'''\n",
    "\n",
    "# Get-ChildItem命令递归查找当前目录是否有用于Mac系统用户预览的缓存文件夹（文件类似于Windows系统的Thumbs.db）并递归强制删除\n",
    "os.system('Get-ChildItem -Path . -Recurse -Filter \"__MACOSX\" | Remove-Item -Force')\n",
    "# 检查是否已删除\n",
    "os.system('Test-Path -Path . -Filter \"__MACOSX\"')\n",
    "\n",
    "\n",
    "# Get-ChildItem命令递归查找当前目录是否有用于Mac系统桌面服务存储的文件\n",
    "os.system('Get-ChildItem -Path . -Recurse -Filter \".DS_Store\" | Remove-Item -Force')\n",
    "# 检查是否已删除\n",
    "os.system('Test-Path -Path . -Filter \".DS_Store\"')\n",
    "\n",
    "\n",
    "# Get-ChildItem命令递归查找当前目录是否有用于jupyter进行定点恢复的文件\n",
    "os.system('Get-ChildItem -Path . -Recurse -Filter \".ipynb_checkpoints\" | Remove-Item -Force')\n",
    "# 检查是否已删除\n",
    "os.system('Test-Path -Path . -Filter \".ipynb_checkpoints\"')"
   ]
  },
  {
   "cell_type": "markdown",
   "id": "07fdb635",
   "metadata": {},
   "source": [
    "- ### 其它"
   ]
  },
  {
   "cell_type": "code",
   "execution_count": null,
   "id": "484c93f3",
   "metadata": {},
   "outputs": [],
   "source": [
    "# Python命令查找指定目录下是否有带目标后缀的文件\n",
    "'%目标后缀%' in os.listdir('%指定目录%')"
   ]
  },
  {
   "cell_type": "markdown",
   "id": "c8eaf8f0-b6ab-4e49-baf7-84124c6a472a",
   "metadata": {
    "tags": []
   },
   "source": [
    "## 3. 删除无法读取的文件与非三通道的文件"
   ]
  },
  {
   "cell_type": "markdown",
   "id": "fe7e600f",
   "metadata": {},
   "source": [
    "- ### Unix / Windows 系统"
   ]
  },
  {
   "cell_type": "code",
   "execution_count": null,
   "id": "b7d6bba1-5ab0-482c-a0f9-4856a6bd7b41",
   "metadata": {},
   "outputs": [],
   "source": [
    "'''\n",
    "cv2.imread(path, flag) ：opencv中的处理图片的函数，需注意path不能有中文，否则会返回None\n",
    "path : 以字节为单位接收到的图像数据\n",
    "flag : 指定读取图像的方式，具体见下：\n",
    "cv2.IMREAD_COLOR (实参1) 表示以忽略alpha通道的彩色模式加载图片（默认参数）\n",
    "cv2.IMREAD_GRAYSCALE (实参0) 表示以灰度模式加载图片\n",
    "cv2.IMREAD_UNCHANGED (实参-1) 表示以包括alpha通道的完整模式加载图片\n",
    "\n",
    "为解决中文路径的问题，引入以下函数以替代imread函数：\n",
    "\n",
    "cv2.imdecode(buf, flags) : 用于从内存缓存中读取图像数据并将其转换为图像格式\n",
    "buf : 以字节为单位接收到的图像数据\n",
    "flags : 指定读取图像的方式（同上）\n",
    "\n",
    "numpy.fromfile(file, dtype = float, count = -1, sep = '', offset = 0, *, like = None) : 从文本或二进制文件中的数据构造一个数组\n",
    "file ：需读取的文件对象的路径\n",
    "dtype ：返回数组的数据类型\n",
    "count : 要读取的数据长度（默认为-1，表示所有数据）\n",
    "sep : 数据之间的分隔符（默认为''空分隔符，表示文件应被视为二进制文件）\n",
    "offset : 与文件当前位置的以字节为单位的偏移量（默认为0且仅允许用于二进制文件）\n",
    "like : 创建非NumPy数组的数组引用对象（默认为None，表示不允许创建）\n",
    "\n",
    "numpy.uint8 : 将数组的类型转换为uint8，即表示范围[0, 255]整数的无符号八位整型\n",
    "\n",
    "由此可得解决方案：cv2.imdecode(numpy.fromfile(r\"/path/to/image\", dtype = numpy.uint8), flag = -1) # 路径前加上r能够防止\\的转义，亦或者使用\\\\来实现\n",
    "\n",
    "\n",
    "Image.open(path) ：PIL中的处理图片的函数，注意使用时需 from PIL import Image （或者 Import PIL 之后 img = PIL.Image.open(path)）\n",
    "同时需注意：\n",
    "当图像格式为RGBA时，Image.open()读取的格式为RGBA（其中A表示图像的alpha通道，即RGBA共四个通道）；而cv2.imread()读取的格式是BGR，只有三个通道。故使用PIL进行处理非三通道检测处理。\n",
    "'''\n",
    "\n",
    "# 指定工作目录\n",
    "WorkDir = 'DataSet' # 指定数据集文件夹为工作目录\n",
    "\n",
    "# 对工作目录下的图像文件进行筛查\n",
    "for Subfolder in tqdm(os.listdir(WorkDir)): # 遍历工作目录下包含的子文件夹并让进度可视化\n",
    "    for File in os.listdir(os.path.join(WorkDir, Subfolder)): # 合并工作目录、子文件夹得到子文件夹路径以遍历路径下包含的文件\n",
    "        File_Path = os.path.join(WorkDir, Subfolder, File) # 合并工作目录、子文件夹、文件名得到文件路径\n",
    "\n",
    "        # 先判断是否可以被opencv读取\n",
    "        IsImageReadable = cv2.imdecode(numpy.fromfile(File_Path, dtype = numpy.uint8), flags = 1) # 以彩色模式读入路径对应的图片\n",
    "        if IsImageReadable is None: # 可读取的文件通常返回为numpy.array类型，其余返回None（包括opencv不支持的gif格式文件）\n",
    "            print(File_Path, '判定为不明文件，执行删除')\n",
    "            os.remove(File_Path)\n",
    "        else:\n",
    "            # 再对可读取文件判断是否为非三通道文件\n",
    "            IsImageRGB = numpy.array(Image.open(File_Path)) # 由于要使用img.shape函数，故打开图片后需将image形式转换成array数组\n",
    "            try: # 尝试获取图像通道信息并判定通道数是否为三\n",
    "                Channel = IsImageRGB.shape[2] # [0]返回水平像素数；[1]返回垂直像素数；[2]返回通道数\n",
    "                if Channel != 3:\n",
    "                    print(File_Path, '判定为非三通道文件，执行删除')\n",
    "                    os.remove(File_Path)\n",
    "            except:\n",
    "                print(File_Path, '判定为不明文件，执行删除')\n",
    "                os.remove(File_Path)"
   ]
  },
  {
   "cell_type": "markdown",
   "id": "4f9afab9-4f90-47c1-8f5c-3fbc3a2f9995",
   "metadata": {},
   "source": [
    "## 4. 再次删除多余的`.ipynb_checkpoints`目录"
   ]
  },
  {
   "cell_type": "markdown",
   "id": "31b0b269",
   "metadata": {},
   "source": [
    "- ### Linux系统"
   ]
  },
  {
   "cell_type": "code",
   "execution_count": null,
   "id": "b6720c92-39f7-4ab2-915d-4d73def40a56",
   "metadata": {},
   "outputs": [],
   "source": [
    "# Find命令递归查找当前目录是否有用于jupyter进行定点恢复的文件\n",
    "!find . -iname '.ipynb_checkpoints'\n",
    "#删除\n",
    "!for i in `find . -iname '.ipynb_checkpoints'`; do rm -rf $i; done\n",
    "# 验证是否已删除\n",
    "!find . -iname '.ipynb_checkpoints'"
   ]
  },
  {
   "cell_type": "markdown",
   "id": "c4400a34",
   "metadata": {},
   "source": [
    "- ### Windows系统"
   ]
  },
  {
   "cell_type": "code",
   "execution_count": null,
   "id": "a7e3294f",
   "metadata": {},
   "outputs": [],
   "source": [
    "# Get-ChildItem命令递归查找当前目录是否有用于jupyter进行定点恢复的文件\n",
    "os.system('Get-ChildItem -Path . -Recurse -Filter \".ipynb_checkpoints\" | Remove-Item -Force')\n",
    "# 检查是否已删除\n",
    "os.system('Test-Path -Path . -Filter \".ipynb_checkpoints\"')"
   ]
  }
 ],
 "metadata": {
  "kernelspec": {
   "display_name": "Python 3.7.0 ('base')",
   "language": "python",
   "name": "python3"
  },
  "language_info": {
   "codemirror_mode": {
    "name": "ipython",
    "version": 3
   },
   "file_extension": ".py",
   "mimetype": "text/x-python",
   "name": "python",
   "nbconvert_exporter": "python",
   "pygments_lexer": "ipython3",
   "version": "3.7.0 (default, Jun 28 2018, 08:04:48) [MSC v.1912 64 bit (AMD64)]"
  },
  "vscode": {
   "interpreter": {
    "hash": "3af1b6f78fba78245cf63ab96d33e9b07e8f9db7221177dfc11d053b30bdd569"
   }
  }
 },
 "nbformat": 4,
 "nbformat_minor": 5
}
