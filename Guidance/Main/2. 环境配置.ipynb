{
 "cells": [
  {
   "cell_type": "markdown",
   "id": "68aa2c39-1a4b-4d3c-ab35-3d44896f2f67",
   "metadata": {},
   "source": [
    "# 环境配置"
   ]
  },
  {
   "cell_type": "code",
   "execution_count": null,
   "id": "0dbbff32",
   "metadata": {},
   "outputs": [],
   "source": [
    "'''\n",
    "Ipython kernel的 !cmd 与 %cmd 用法：\n",
    "! 开一个新progress，执行完后效果终止\n",
    "% 开一个新progress，执行完后效果持续\n",
    "\n",
    "Ipython kernel的 % 与 %% 用法：\n",
    "行魔法（Line magic）前缀为一个百分号，置于目标句的开头。其作用范围是该魔法函数的位置直至所在行的最末端（即行的部分），里面可以添加其它种类的代码\n",
    "块魔法（Cell magic）前缀为两个百分号，置于单元快的首行。其作用范围是该魔法函数的位置直至所在块的最末端（即块的全部），里面不可添加其它种类的代码\n",
    "'''"
   ]
  },
  {
   "cell_type": "code",
   "execution_count": null,
   "id": "f747d65d",
   "metadata": {},
   "outputs": [],
   "source": [
    "# 导入操作系统库以获取平台信息以及对目录操作的权限\n",
    "import os"
   ]
  },
  {
   "cell_type": "markdown",
   "id": "d56b4a5f-8ec2-4493-8344-580ed67d3d25",
   "metadata": {},
   "source": [
    "## 非Conda环境"
   ]
  },
  {
   "cell_type": "code",
   "execution_count": null,
   "id": "9b7bed8b",
   "metadata": {},
   "outputs": [],
   "source": [
    "# 升级 pip 并更改超时处理机制（将默认的超时的时间由15秒改为900秒）\n",
    "#!python -m pip --default-timeout=900 install --upgrade pip\n",
    "\n",
    "os.system(\"python -m pip --default-timeout=900 install --upgrade pip\")"
   ]
  },
  {
   "cell_type": "code",
   "execution_count": null,
   "id": "26bc6d43",
   "metadata": {},
   "outputs": [],
   "source": [
    "# 若上面命令运行的结果出现了\"requires XXX which is not installed\"，说明需要安装该依赖包\n",
    "#!pip install XXX\n",
    "\n",
    "#os.system(\"pip install XXX\")"
   ]
  },
  {
   "cell_type": "code",
   "execution_count": null,
   "id": "83c98888-79c0-4f4c-8e64-b9cc65ac797e",
   "metadata": {},
   "outputs": [],
   "source": [
    "# 安装所有需要的包并借助国内镜像\n",
    "#!pip install numpy pandas matplotlib requests tqdm opencv-python -i https://pypi.mirrors.ustc.edu.cn/simple\n",
    "\n",
    "libs = {\"numpy\", \"pandas\", \"matplotlib\", \"requests\", \"tqdm\", \"opencv-python\"}\n",
    "for lib in libs:\n",
    "    os.system(\"pip install -i https://pypi.mirrors.ustc.edu.cn/simple \" + lib) # 遍历并安装库,注意：镜像URL后面要留空"
   ]
  },
  {
   "cell_type": "markdown",
   "id": "6f46d12b",
   "metadata": {},
   "source": [
    "## Conda环境"
   ]
  },
  {
   "cell_type": "markdown",
   "id": "67bac76f",
   "metadata": {},
   "source": [
    "### 换源并更新（可选）"
   ]
  },
  {
   "cell_type": "code",
   "execution_count": null,
   "id": "3d163bf4",
   "metadata": {},
   "outputs": [],
   "source": [
    "# 找到.condac文件并查看里面的镜像源\n",
    "#!conda config --show-sources\n",
    "\n",
    "os.system(\"conda config --show-sources\")"
   ]
  },
  {
   "cell_type": "code",
   "execution_count": null,
   "id": "db0af4bf",
   "metadata": {},
   "outputs": [],
   "source": [
    "# 恢复Anaconda的源为默认\n",
    "#!conda config --remove-key channels\n",
    "\n",
    "#os.system(\"conda config --remove-key channels\")"
   ]
  },
  {
   "cell_type": "code",
   "execution_count": null,
   "id": "a06b130f",
   "metadata": {},
   "outputs": [],
   "source": [
    "# 移除Anaconda的默认源\n",
    "#!conda config --remove channels defaults\n",
    "\n",
    "os.system(\"conda config --remove channels defaults\")"
   ]
  },
  {
   "cell_type": "code",
   "execution_count": null,
   "id": "f8632197",
   "metadata": {},
   "outputs": [],
   "source": [
    "# 添加Anaconda的源（http后面不能有s且清华源尾部要加上系统信息）\n",
    "#!conda config --append channels http://mirrors.tuna.tsinghua.edu.cn/anaconda/pkgs/free/win-64\n",
    "\n",
    "os.system(\"conda config --append channels http://mirrors.tuna.tsinghua.edu.cn/anaconda/pkgs/free/win-64\")\n",
    "\n",
    "# 告诉conda在搜索软件包时也要在conda-forge channel上查看\n",
    "#!conda config --append channels conda-forge\n",
    "\n",
    "os.system(\"conda config --append channels conda-forge\")"
   ]
  },
  {
   "cell_type": "code",
   "execution_count": null,
   "id": "66538899",
   "metadata": {},
   "outputs": [],
   "source": [
    "# 更改用户目录下的condarc文件以配置镜像和验证机制\n",
    "#!powershell -command \"\"\n",
    "\n",
    "#os.system(\"\")"
   ]
  },
  {
   "cell_type": "code",
   "execution_count": 13,
   "id": "57471c93",
   "metadata": {},
   "outputs": [],
   "source": [
    "# 更新conda\n",
    "#!conda upgrade -n base conda\n",
    "\n",
    "os.system(\"conda upgrade -n base conda\")"
   ]
  },
  {
   "cell_type": "markdown",
   "id": "441d39c3",
   "metadata": {},
   "source": [
    "- ### Anaconda用户"
   ]
  },
  {
   "cell_type": "code",
   "execution_count": null,
   "id": "f82e0fa2",
   "metadata": {},
   "outputs": [],
   "source": [
    "#!conda install -c conda-forge opencv-python\n",
    "\n",
    "libs = {\"opencv-python\"}\n",
    "for lib in libs:\n",
    "    os.system(\"pip install -i https://pypi.mirrors.ustc.edu.cn/simple \" + lib)"
   ]
  },
  {
   "cell_type": "markdown",
   "id": "9ee31a52",
   "metadata": {},
   "source": [
    "- ### Miniconda用户"
   ]
  },
  {
   "cell_type": "code",
   "execution_count": null,
   "id": "6b20c0b5",
   "metadata": {},
   "outputs": [],
   "source": [
    "#!conda install -c conda-forge numpy pandas matplotlib requests tqdm opencv-python\n",
    "\n",
    "libs = {\"numpy\", \"pandas\", \"matplotlib\", \"requests\", \"tqdm\", \"opencv-python\"}\n",
    "for lib in libs:\n",
    "    os.system(\"pip install -i https://pypi.mirrors.ustc.edu.cn/simple \" + lib)"
   ]
  }
 ],
 "metadata": {
  "kernelspec": {
   "display_name": "Python 3.7.0 ('base')",
   "language": "python",
   "name": "python3"
  },
  "language_info": {
   "codemirror_mode": {
    "name": "ipython",
    "version": 3
   },
   "file_extension": ".py",
   "mimetype": "text/x-python",
   "name": "python",
   "nbconvert_exporter": "python",
   "pygments_lexer": "ipython3"
  },
  "vscode": {
   "interpreter": {
    "hash": "3af1b6f78fba78245cf63ab96d33e9b07e8f9db7221177dfc11d053b30bdd569"
   }
  }
 },
 "nbformat": 4,
 "nbformat_minor": 5
}
